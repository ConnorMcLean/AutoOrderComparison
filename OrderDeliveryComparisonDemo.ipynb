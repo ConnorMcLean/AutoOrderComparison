{
 "cells": [
  {
   "cell_type": "code",
   "execution_count": 1,
   "metadata": {
    "collapsed": true
   },
   "outputs": [],
   "source": [
    "#Oi shoppee, i made this with just a guess but yeah anyway it might help you a bit some dummy data is included\n",
    "#It's not finished i just thought i get the basics down if you wanted, it doesnt check if thyve shipped you a wrong part\n",
    "#Also it assume you internally use the one code or whatever, but it does the comparing via a master sheet like we spoke about\n",
    "#Cheers\n",
    "\n",
    "# Order Delivery Comparison Demo\n",
    "# By Connor Mclean\n",
    "# Made to check whether order form is same as delivery\n",
    "# If discrepencies exist, will create a new file listing them\n",
    "\n",
    "# NOTE: that this assumes data is in the same format\n",
    "# If data is not in the same format, some tinkering would be required"
   ]
  },
  {
   "cell_type": "code",
   "execution_count": 2,
   "metadata": {},
   "outputs": [],
   "source": [
    "# Importing Various libraries\n",
    "\n",
    "# Using Pandas dataframe structure for processing\n",
    "import pandas as pd\n",
    "pd.options.mode.chained_assignment = None\n",
    "\n",
    "# Using system to halt incase of errors\n",
    "import sys\n",
    "\n",
    "#Decimal for money conversion\n",
    "from decimal import Decimal\n",
    "\n",
    "# Importing Data \n",
    "# NOTE: all data is in CSV form at the moment\n",
    "\n",
    "OrderSheet = pd.read_csv('DummyData\\DummyOrderDataCSV-V2.csv', encoding = 'ISO-8859-1')\n",
    "MasterSheet = pd.read_csv('DummyData\\DummyMasterSheetCSV-V2.csv', encoding = 'ISO-8859-1')\n",
    "DeliverySheet = pd.read_csv('DummyData\\DummyDeliveryDataCSV-V2.csv', encoding = 'ISO-8859-1')\n"
   ]
  },
  {
   "cell_type": "code",
   "execution_count": 3,
   "metadata": {},
   "outputs": [],
   "source": [
    "\n",
    "#Dropping empty Columns and Rows\n",
    "MasterSheet = MasterSheet.dropna(axis=0, how='all')\n",
    "MasterSheet = MasterSheet.dropna(axis=1, how='all')\n",
    "DeliverySheet = DeliverySheet.dropna(axis=0, how='all')\n",
    "OrderSheet = OrderSheet.dropna(axis = 0, how=\"all\")\n",
    "\n",
    "#Convert Dollars to float for comparison, both per item and total\n",
    "OrderSheet['Buy Cost (Item)'] = OrderSheet[\"Buy Cost (Item)\"].str.replace('[$]', '')\n",
    "OrderSheet[\"Buy Cost (Item)\"] = OrderSheet[\"Buy Cost (Item)\"].str.replace(',', '')\n",
    "OrderSheet[\"Buy Cost (Item)\"] = pd.to_numeric(OrderSheet[\"Buy Cost (Item)\"], errors='raise')\n",
    "\n",
    "OrderSheet[\"Buy Cost (Total)\"] = OrderSheet[\"Buy Cost (Total)\"].str.replace('[$]', '')\n",
    "OrderSheet[\"Buy Cost (Total)\"] = OrderSheet[\"Buy Cost (Total)\"].str.replace(',', '')\n",
    "OrderSheet[\"Buy Cost (Total)\"] = pd.to_numeric(OrderSheet[\"Buy Cost (Total)\"], errors='raise')\n",
    "\n",
    "DeliverySheet[\"Buy Cost (Item)\"] = DeliverySheet[\"Buy Cost (Item)\"].str.replace('[$]', '')\n",
    "DeliverySheet[\"Buy Cost (Item)\"] = DeliverySheet[\"Buy Cost (Item)\"].str.replace(',', '')\n",
    "DeliverySheet[\"Buy Cost (Item)\"] = pd.to_numeric(DeliverySheet[\"Buy Cost (Item)\"], errors='raise')\n",
    "\n",
    "DeliverySheet[\"Buy Cost (Total)\"] = DeliverySheet[\"Buy Cost (Total)\"].str.replace('[$]', '')\n",
    "DeliverySheet[\"Buy Cost (Total)\"] = DeliverySheet[\"Buy Cost (Total)\"].str.replace(',', '')\n",
    "DeliverySheet[\"Buy Cost (Total)\"] = pd.to_numeric(DeliverySheet[\"Buy Cost (Total)\"], errors='raise')\n"
   ]
  },
  {
   "cell_type": "code",
   "execution_count": 5,
   "metadata": {},
   "outputs": [],
   "source": [
    "OPartCode = 0\n",
    "MPartCodeRow = 0\n",
    "MPartCodeCol = 0\n",
    "DPartCode = 0\n",
    "\n",
    "f = open('Discrepencies.txt', 'w')\n",
    "\n",
    "#Loop through Order sheet\n",
    "while OPartCode < len(OrderSheet):\n",
    "    MPartCodeRow = 0\n",
    "    #Loop through Master SHeet\n",
    "    while MPartCodeRow < len(MasterSheet):\n",
    "\n",
    "        MPartCodeCol = 0\n",
    "        #If Codes match with mastersheet\n",
    "        if OrderSheet['Part#'][OPartCode] == MasterSheet['Our code:'][MPartCodeRow]:\n",
    "            \n",
    "            #Loop through row that contains code and compare to DeliverySheet\n",
    "            while MPartCodeCol < MasterSheet.shape[1]:\n",
    "                \n",
    "                DPartCode = 0\n",
    "                #Loop through delivery sheet looking fro possible match of master code and delivery code\n",
    "                while DPartCode < len(DeliverySheet):\n",
    "                    \n",
    "                    if MasterSheet[MasterSheet.columns.values[MPartCodeCol]][MPartCodeRow] == DeliverySheet['Part#'][DPartCode]:\n",
    "                        \n",
    "                        if (DeliverySheet['Buy Cost (Total)'][DPartCode] != OrderSheet['Buy Cost (Total)'][OPartCode]) or (DeliverySheet['Supplied'][DPartCode] != OrderSheet['Ordered'][OPartCode]) or (DeliverySheet['Buy Cost (Item)'][DPartCode] != OrderSheet['Buy Cost (Item)'][OPartCode]):\n",
    "                            f.write(\"Part: %s (Deliver Code: %s) Has the following differences: \\n\" %(OrderSheet['Part#'][OPartCode], DeliverySheet['Part#'][DPartCode]))\n",
    "                            \n",
    "                            #COMPARE PRICES AND QUANTITY TO ORDER FORM\n",
    "                            if DeliverySheet['Buy Cost (Total)'][DPartCode] != OrderSheet['Buy Cost (Total)'][OPartCode]:\n",
    "                                f.write(\"Different Buy Cost (Total). \\n Expected: $%.2f \\n Recieved: $%.2f \\n\" % (OrderSheet['Buy Cost (Total)'][OPartCode], DeliverySheet['Buy Cost (Total)'][DPartCode]))\n",
    "                            \n",
    "                            if DeliverySheet['Supplied'][DPartCode] != OrderSheet['Ordered'][OPartCode]:\n",
    "                                f.write(\"Different Supplied amount (Total). \\n Expected: %d \\n Recieved: %d \\n\" % (OrderSheet['Ordered'][OPartCode], DeliverySheet['Supplied'][DPartCode]))\n",
    "                      \n",
    "                            if DeliverySheet['Buy Cost (Item)'][DPartCode] != OrderSheet['Buy Cost (Item)'][OPartCode]:\n",
    "                                f.write(\"Different Buy Cost (Total). \\n Expected: $%.2f \\n Recieved: $%.2f \\n\" % (OrderSheet['Buy Cost (Item)'][OPartCode], DeliverySheet['Buy Cost (Item)'][DPartCode]))\n",
    "                                \n",
    "                            f.write(\"\\n\\n\")\n",
    "                        MPartCodeCol = MasterSheet.shape[1]\n",
    "                        MPartCodeRow = len(MasterSheet)\n",
    "                        break\n",
    "                        \n",
    "                    \n",
    "                    DPartCode += 1\n",
    "                    \n",
    "                MPartCodeCol += 1\n",
    "        \n",
    "        MPartCodeRow += 1\n",
    "    \n",
    "    OPartCode += 1\n",
    "        \n",
    "f.close()"
   ]
  },
  {
   "cell_type": "code",
   "execution_count": null,
   "metadata": {
    "collapsed": true
   },
   "outputs": [],
   "source": []
  }
 ],
 "metadata": {
  "kernelspec": {
   "display_name": "Python 3",
   "language": "python",
   "name": "python3"
  },
  "language_info": {
   "codemirror_mode": {
    "name": "ipython",
    "version": 3
   },
   "file_extension": ".py",
   "mimetype": "text/x-python",
   "name": "python",
   "nbconvert_exporter": "python",
   "pygments_lexer": "ipython3",
   "version": "3.6.3"
  }
 },
 "nbformat": 4,
 "nbformat_minor": 2
}
